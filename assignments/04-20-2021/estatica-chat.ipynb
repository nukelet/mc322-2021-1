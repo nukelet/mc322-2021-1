{
 "cells": [
  {
   "cell_type": "markdown",
   "metadata": {},
   "source": [
    "## Atributos e Métodos de Instância\n",
    "\n",
    "Vamos retomar como funcionam os atributos e métodos da forma vista até agora. Considere a seguinte classe que mantém um contador:"
   ]
  },
  {
   "cell_type": "code",
   "execution_count": 1,
   "metadata": {},
   "outputs": [
    {
     "data": {
      "text/plain": [
       "com.twosigma.beaker.javash.bkrf8e68ad4.RegistroI"
      ]
     },
     "execution_count": 1,
     "metadata": {},
     "output_type": "execute_result"
    }
   ],
   "source": [
    "public class RegistroI {\n",
    "   int contador;\n",
    "    \n",
    "   int proximoContador() {\n",
    "      contador++;\n",
    "      return contador;\n",
    "   }\n",
    "}"
   ]
  },
  {
   "cell_type": "markdown",
   "metadata": {},
   "source": [
    "Para que se possa usar o atributo e/ou o método é necessária a criação prévia de uma instância e o atributo e/ou método são acessados através dela:"
   ]
  },
  {
   "cell_type": "code",
   "execution_count": 2,
   "metadata": {},
   "outputs": [
    {
     "name": "stdout",
     "output_type": "stream",
     "text": [
      "Contador: 5\n",
      "Contador: 6\n"
     ]
    },
    {
     "data": {
      "text/plain": [
       "null"
      ]
     },
     "execution_count": 2,
     "metadata": {},
     "output_type": "execute_result"
    }
   ],
   "source": [
    "RegistroI r = new RegistroI();\n",
    "r.contador = 5;\n",
    "System.out.println(\"Contador: \" + r.contador);\n",
    "System.out.println(\"Contador: \" + r.proximoContador());"
   ]
  },
  {
   "cell_type": "markdown",
   "metadata": {},
   "source": [
    "Um atributo novo é criado para cada nova instância, de tal forma que cada instância mantém seu estado de forma independente. O método sempre se refere ao atributo da sua instância:"
   ]
  },
  {
   "cell_type": "code",
   "execution_count": 3,
   "metadata": {},
   "outputs": [
    {
     "name": "stdout",
     "output_type": "stream",
     "text": [
      "Contador r1: 5\n",
      "Contador r2: 7\n",
      "Contador r1: 6\n",
      "Contador r2: 8\n"
     ]
    },
    {
     "data": {
      "text/plain": [
       "null"
      ]
     },
     "execution_count": 3,
     "metadata": {},
     "output_type": "execute_result"
    }
   ],
   "source": [
    "RegistroI r1 = new RegistroI(),\n",
    "          r2 = new RegistroI();\n",
    "r1.contador = 5;\n",
    "r2.contador = 7;\n",
    "\n",
    "System.out.println(\"Contador r1: \" + r1.contador);\n",
    "System.out.println(\"Contador r2: \" + r2.contador);\n",
    "System.out.println(\"Contador r1: \" + r1.proximoContador());\n",
    "System.out.println(\"Contador r2: \" + r2.proximoContador());"
   ]
  },
  {
   "cell_type": "markdown",
   "metadata": {},
   "source": [
    "Esses atributos e métodos “pertencem” à instância."
   ]
  },
  {
   "cell_type": "markdown",
   "metadata": {},
   "source": [
    "# Atributos e Métodos Estáticos\n",
    "\n",
    "Atributos e métodos que pertencem à classe e não precisam de instâncias para serem usados/acionados. Eles são precedidos da cláusula `static`.\n",
    "\n",
    "## Classe `Registro`\n",
    "\n",
    "Veja exemplo da classe `RegistroS` que define um atributo e um método estáticos. Métodos estáticos só podem se referir a atributos estáticos."
   ]
  },
  {
   "cell_type": "code",
   "execution_count": 4,
   "metadata": {},
   "outputs": [
    {
     "data": {
      "text/plain": [
       "com.twosigma.beaker.javash.bkrf8e68ad4.RegistroS"
      ]
     },
     "execution_count": 4,
     "metadata": {},
     "output_type": "execute_result"
    }
   ],
   "source": [
    "public class RegistroS {\n",
    "   static int contador = 0;\n",
    "   \n",
    "   static int proximoContador() {\n",
    "      contador++;\n",
    "      return contador;\n",
    "   }\n",
    "}"
   ]
  },
  {
   "cell_type": "markdown",
   "metadata": {},
   "source": [
    "## Usando um atributo estático\n",
    "\n",
    "Há duas formas de se usar um atributo estático. A primeira é precedida apenas pelo nome da classe. Dispensa a criação de instância (objeto):"
   ]
  },
  {
   "cell_type": "code",
   "execution_count": 5,
   "metadata": {},
   "outputs": [
    {
     "name": "stdout",
     "output_type": "stream",
     "text": [
      "Contador: 5\n"
     ]
    },
    {
     "data": {
      "text/plain": [
       "null"
      ]
     },
     "execution_count": 5,
     "metadata": {},
     "output_type": "execute_result"
    }
   ],
   "source": [
    "RegistroS.contador = 5;\n",
    "System.out.println(\"Contador: \" + RegistroS.contador);"
   ]
  },
  {
   "cell_type": "markdown",
   "metadata": {},
   "source": [
    "## Usando um Método Estático\n",
    "\n",
    "Também há duas maneiras de se usar métodos estáticos e a primeira é precedendo-o do nome da classe. Tal como o atributo, dispensa a criação de instância:"
   ]
  },
  {
   "cell_type": "code",
   "execution_count": 6,
   "metadata": {},
   "outputs": [
    {
     "name": "stdout",
     "output_type": "stream",
     "text": [
      "Contador: 6\n"
     ]
    },
    {
     "data": {
      "text/plain": [
       "null"
      ]
     },
     "execution_count": 6,
     "metadata": {},
     "output_type": "execute_result"
    }
   ],
   "source": [
    "System.out.println(\"Contador: \" + RegistroS.proximoContador());"
   ]
  },
  {
   "cell_type": "markdown",
   "metadata": {},
   "source": [
    "## Atributos e Métodos Estáticos em Instâncias\n",
    "\n",
    "É possível o acesso a atributos e métodos estáticos a partir dos ponteiros para as instâncias, mas eles continuam se comportando como estáticos, ou seja, pertencem à classe e não a objetos específicos. Portanto, o mesmo atributo e seu valor é compartilhado por todos os objetos. Compare o comportamento deste código com o apresentado anteriormente para atributos/métodos de instância:"
   ]
  },
  {
   "cell_type": "code",
   "execution_count": 7,
   "metadata": {},
   "outputs": [
    {
     "name": "stdout",
     "output_type": "stream",
     "text": [
      "Contador r1: 7\n",
      "Contador r2: 7\n",
      "Contador r1: 8\n",
      "Contador r2: 9\n"
     ]
    },
    {
     "data": {
      "text/plain": [
       "null"
      ]
     },
     "execution_count": 7,
     "metadata": {},
     "output_type": "execute_result"
    }
   ],
   "source": [
    "RegistroS r1 = new RegistroS(),\n",
    "          r2 = new RegistroS();\n",
    "r1.contador = 5;\n",
    "r2.contador = 7;\n",
    "\n",
    "System.out.println(\"Contador r1: \" + r1.contador);\n",
    "System.out.println(\"Contador r2: \" + r2.contador);\n",
    "System.out.println(\"Contador r1: \" + r1.proximoContador());\n",
    "System.out.println(\"Contador r2: \" + r2.proximoContador());"
   ]
  },
  {
   "cell_type": "markdown",
   "metadata": {},
   "source": [
    "## Misturando Estáticos com Instância\n",
    "\n",
    "Uma classe pode misturar atributos e métodos estáticos e de instância."
   ]
  },
  {
   "cell_type": "code",
   "execution_count": 8,
   "metadata": {},
   "outputs": [
    {
     "data": {
      "text/plain": [
       "com.twosigma.beaker.javash.bkrf8e68ad4.Chat"
      ]
     },
     "execution_count": 8,
     "metadata": {},
     "output_type": "execute_result"
    }
   ],
   "source": [
    "public class Chat {\n",
    "   /* Parte Estática\n",
    "    ****************/\n",
    "   \n",
    "   static int contador = 0;\n",
    "   \n",
    "   static int proximoContador() {\n",
    "      contador++;\n",
    "      return contador;\n",
    "   }\n",
    "   \n",
    "   /* Parte Instância\n",
    "    *****************/\n",
    "   \n",
    "   String nome;\n",
    "   \n",
    "   Chat(String nome) {\n",
    "      this.nome = nome;\n",
    "   }\n",
    "   \n",
    "   void mensagem(String msg) {\n",
    "      System.out.println(nome + \"[\" + proximoContador() + \"]: \" + msg);\n",
    "   }\n",
    "}"
   ]
  },
  {
   "cell_type": "markdown",
   "metadata": {},
   "source": [
    "## Usando Estáticos e de Instância\n",
    "\n",
    "Nesse caso, o mesmo atributo estático (pertencentte à classe) é compartilhado por todos os objetos. Porém os atributos de instância podem ser diferentes para cada objeto."
   ]
  },
  {
   "cell_type": "code",
   "execution_count": 9,
   "metadata": {},
   "outputs": [
    {
     "name": "stdout",
     "output_type": "stream",
     "text": [
      "Doriana[1]: Quem aqui gosta de dinossauros?\n",
      "Quincas[2]: Eu gosto!\n",
      "Melissa[3]: Dinossauros? Por que dinossauros?\n",
      "Doriana[4]: Deixa de ser chata Melissa, você gosta ou não gosta?\n",
      "Melissa[5]: Ainda não entendi por que dinossauros.\n"
     ]
    },
    {
     "data": {
      "text/plain": [
       "null"
      ]
     },
     "execution_count": 9,
     "metadata": {},
     "output_type": "execute_result"
    }
   ],
   "source": [
    "Chat doriana = new Chat(\"Doriana\"),\n",
    "     quincas = new Chat(\"Quincas\"),\n",
    "     melissa = new Chat(\"Melissa\");\n",
    "\n",
    "doriana.mensagem(\"Quem aqui gosta de dinossauros?\");\n",
    "quincas.mensagem(\"Eu gosto!\");\n",
    "melissa.mensagem(\"Dinossauros? Por que dinossauros?\");\n",
    "doriana.mensagem(\"Deixa de ser chata Melissa, você gosta ou não gosta?\");\n",
    "melissa.mensagem(\"Ainda não entendi por que dinossauros.\");"
   ]
  },
  {
   "cell_type": "markdown",
   "metadata": {},
   "source": [
    "# Tarefa\n",
    "\n",
    "## Nova classe `Grafico`\n",
    "\n",
    "Retomando a classe `Grafico` feita anteriormente (copiada abaixo), modifique classe para que só haja um caractere que seja compartilhado por todos os objetos, em vez de cada instância ter o seu próprio caractere."
   ]
  },
  {
   "cell_type": "code",
   "execution_count": 10,
   "metadata": {},
   "outputs": [
    {
     "data": {
      "text/plain": [
       "com.twosigma.beaker.javash.bkrf8e68ad4.Grafico"
      ]
     },
     "execution_count": 10,
     "metadata": {},
     "output_type": "execute_result"
    }
   ],
   "source": [
    "public class Grafico {\n",
    "   boolean preenchido;\n",
    "   char caractere;\n",
    "   \n",
    "   Grafico(boolean preenchido, char caractere) {\n",
    "      this.preenchido = preenchido;\n",
    "      this.caractere = caractere;\n",
    "   }\n",
    "\n",
    "   void plota(int valor) {\n",
    "      for (int v = 1; v < valor; v++)\n",
    "         System.out.print((preenchido) ? caractere : ' ');\n",
    "      System.out.println(caractere);\n",
    "   }\n",
    "}"
   ]
  },
  {
   "cell_type": "code",
   "execution_count": 11,
   "metadata": {},
   "outputs": [
    {
     "name": "stdout",
     "output_type": "stream",
     "text": [
      "##########\n",
      "############\n",
      "########\n",
      "\n",
      "   *\n",
      "    *\n",
      "      *\n"
     ]
    },
    {
     "data": {
      "text/plain": [
       "null"
      ]
     },
     "execution_count": 11,
     "metadata": {},
     "output_type": "execute_result"
    }
   ],
   "source": [
    "Grafico g1 = new Grafico(true, '#');\n",
    "Grafico g2 = new Grafico(false, '*');\n",
    "\n",
    "g1.plota(10);\n",
    "g1.plota(12);\n",
    "g1.plota(8);\n",
    "System.out.println();\n",
    "g2.plota(4);\n",
    "g2.plota(5);\n",
    "g2.plota(7);"
   ]
  },
  {
   "cell_type": "markdown",
   "metadata": {},
   "source": [
    "## Aplicação para a Nova Classe `Grafico`\n",
    "\n",
    "Sua nova classe `Grafico`:"
   ]
  },
  {
   "cell_type": "code",
   "execution_count": 3,
   "metadata": {},
   "outputs": [],
   "source": [
    "public class Grafico {\n",
    "    boolean preenchido;\n",
    "    static char caractere = '#';\n",
    "   \n",
    "    Grafico(boolean preenchido) {\n",
    "       this.preenchido = preenchido;\n",
    "    }\n",
    "    \n",
    "    public static void setCaractere(char c) {\n",
    "        caractere = c;\n",
    "    }\n",
    "    \n",
    "    void plota(int valor) {\n",
    "       for (int v = 1; v < valor; v++)\n",
    "          System.out.print((preenchido) ? caractere : ' ');\n",
    "       System.out.println(caractere);\n",
    "    }\n",
    "}"
   ]
  },
  {
   "cell_type": "markdown",
   "metadata": {},
   "source": [
    "Escreva um código para testar a sua classe:"
   ]
  },
  {
   "cell_type": "code",
   "execution_count": 7,
   "metadata": {},
   "outputs": [
    {
     "name": "stdout",
     "output_type": "stream",
     "text": [
      "##########\n",
      "           #\n",
      "\n",
      "****\n",
      "    *\n"
     ]
    }
   ],
   "source": [
    "Grafico g1 = new Grafico(true);\n",
    "Grafico g2 = new Grafico(false);\n",
    "\n",
    "Grafico.setCaractere('#');\n",
    "g1.plota(10);\n",
    "g2.plota(12);\n",
    "System.out.println();\n",
    "\n",
    "Grafico.setCaractere('*');\n",
    "g1.plota(4);\n",
    "g2.plota(5);"
   ]
  }
 ],
 "metadata": {
  "kernelspec": {
   "display_name": "Java",
   "language": "java",
   "name": "java"
  },
  "language_info": {
   "codemirror_mode": "java",
   "file_extension": ".jshell",
   "mimetype": "text/x-java-source",
   "name": "Java",
   "pygments_lexer": "java",
   "version": "11.0.10+9"
  }
 },
 "nbformat": 4,
 "nbformat_minor": 4
}
