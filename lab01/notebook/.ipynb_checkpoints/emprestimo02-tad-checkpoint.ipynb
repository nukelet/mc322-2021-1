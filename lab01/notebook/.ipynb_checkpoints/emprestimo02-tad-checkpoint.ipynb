{
 "cells": [
  {
   "cell_type": "markdown",
   "metadata": {},
   "source": [
    "# Transformando Empréstimo em um TAD\n",
    "\n",
    "Considere a resolução para múltiplos empréstimos."
   ]
  },
  {
   "cell_type": "code",
   "execution_count": 1,
   "metadata": {},
   "outputs": [
    {
     "name": "stdout",
     "output_type": "stream",
     "text": [
      "Emprestimo 1: parcela 1 eh 200.00\n",
      "Emprestimo 2: parcela 1 eh 500.00\n",
      "Emprestimo 1: parcela 2 eh 202.00\n",
      "Emprestimo 2: parcela 2 eh 510.00\n",
      "Emprestimo 1: parcela 3 eh 204.02\n",
      "Emprestimo 2: parcela 3 eh 520.20\n",
      "Emprestimo 1: parcela 4 eh 206.06\n",
      "Emprestimo 2: parcela 4 eh 530.60\n",
      "Emprestimo 1: parcela 5 eh 208.12\n",
      "Emprestimo 2: parcela 5 eh 541.22\n",
      "Emprestimo 2: parcela 6 eh 552.04\n",
      "Emprestimo 2: parcela 7 eh 563.08\n"
     ]
    }
   ],
   "source": [
    "#include <stdio.h>\n",
    "\n",
    "typedef struct {\n",
    "    float s;\n",
    "    int   n;\n",
    "    float j;\n",
    "    int   corrente;\n",
    "    float p;\n",
    "} Emprestimo;\n",
    "\n",
    "Emprestimo novoEmprestimo(float s, int n, float j) {\n",
    "    Emprestimo umEmprestimo;\n",
    "    umEmprestimo.s = s;\n",
    "    umEmprestimo.n = n;\n",
    "    umEmprestimo.j = j;\n",
    "    umEmprestimo.corrente = 1;\n",
    "    umEmprestimo.p = s;\n",
    "    return umEmprestimo;\n",
    "}\n",
    "\n",
    "float proximaParcela(Emprestimo *umEmprestimo) {\n",
    "    float retorno = umEmprestimo->p;\n",
    "    if (umEmprestimo->corrente < umEmprestimo->n)\n",
    "        umEmprestimo->p = umEmprestimo->p + (umEmprestimo->p * (umEmprestimo->j/100));\n",
    "    else\n",
    "        umEmprestimo->p = 0;\n",
    "    (umEmprestimo->corrente)++;\n",
    "    return retorno;\n",
    "}\n",
    "\n",
    "int main() {\n",
    "    Emprestimo emprestimo1,\n",
    "               emprestimo2;\n",
    "    \n",
    "    emprestimo1 = novoEmprestimo(200, 5, 1);\n",
    "    emprestimo2 = novoEmprestimo(500, 7, 2);\n",
    "    \n",
    "    float p1 = proximaParcela(&emprestimo1),\n",
    "          p2 = proximaParcela(&emprestimo2);\n",
    "    \n",
    "    int i = 1;\n",
    "    while (p1 > 0 || p2 > 0) {\n",
    "        if (p1 > 0)\n",
    "            printf(\"Emprestimo 1: parcela %d eh %3.2f\\n\", i, p1);\n",
    "        if (p2 > 0)\n",
    "            printf(\"Emprestimo 2: parcela %d eh %3.2f\\n\", i, p2);\n",
    "        p1 = proximaParcela(&emprestimo1);\n",
    "        p2 = proximaParcela(&emprestimo2);\n",
    "        i++;\n",
    "    }   \n",
    "}"
   ]
  },
  {
   "cell_type": "markdown",
   "metadata": {},
   "source": [
    "# Exercício\n",
    "\n",
    "Modifique este código (ou um código que você mesmo tenha feito) para que a estrutura (struct) possa representar um Tipo Abstrato de Dados (TAD), em que ela contenha não apenas os valores de estado,como também operações executadas sobre eles. As operações (funções em C) também devem fazer parte do struct do mesmo modo que os campos de dados."
   ]
  },
  {
   "cell_type": "markdown",
   "metadata": {},
   "source": [
    "## Solução\n",
    "\n",
    "Lidar com structs alocadas na pilha se provou um pouco trabalhoso, então para a implementação do TAD as funções foram reescritas para lidarem com structs alocadas na heap, de modo que:\n",
    "\n",
    "1. Os objetos não sejam destruídos quando saírem de escopo\n",
    "2. As funções consigam acessar diretamente os objetos por meio de ponteiros\n",
    "\n",
    "Além disso, a implementação das operações como membros das structs se deu por meio da implementação de um membro `self` que contém um ponteiro para o próprio objeto. Os métodos do objeto recebem sempre como primeiro argumento o ponteiro `self` (de modo parecido com o que acontece em Python), e.g. \n",
    "```c\n",
    "void metodo(Emprestimo* self, ...);\n",
    "obj->metodo(obj->self, ...);\n",
    "```"
   ]
  },
  {
   "cell_type": "code",
   "execution_count": 39,
   "metadata": {},
   "outputs": [
    {
     "name": "stdout",
     "output_type": "stream",
     "text": [
      "Emprestimo 1: parcela 1 eh 200.00\n",
      "Emprestimo 2: parcela 1 eh 500.00\n",
      "Emprestimo 1: parcela 2 eh 202.00\n",
      "Emprestimo 2: parcela 2 eh 510.00\n",
      "Emprestimo 1: parcela 3 eh 204.02\n",
      "Emprestimo 2: parcela 3 eh 520.20\n",
      "Emprestimo 1: parcela 4 eh 206.06\n",
      "Emprestimo 2: parcela 4 eh 530.60\n",
      "Emprestimo 1: parcela 5 eh 208.12\n",
      "Emprestimo 2: parcela 5 eh 541.22\n",
      "Emprestimo 2: parcela 6 eh 552.04\n",
      "Emprestimo 2: parcela 7 eh 563.08\n"
     ]
    }
   ],
   "source": [
    "#include <stdio.h>\n",
    "#include <stdlib.h>\n",
    "\n",
    "typedef struct _Emprestimo {\n",
    "    float s;\n",
    "    int   n;\n",
    "    float j;\n",
    "    int   corrente;\n",
    "    float p;\n",
    "    \n",
    "    struct _Emprestimo* self;\n",
    "    float (*proximaParcela)(struct _Emprestimo* self);\n",
    "} Emprestimo;\n",
    "\n",
    "float proximaParcela(Emprestimo *self) {\n",
    "    float retorno = self->p;\n",
    "    if (self->corrente < self->n)\n",
    "        self->p = self->p + (self->p * (self->j/100));\n",
    "    else\n",
    "        self->p = 0;\n",
    "    (self->corrente)++;\n",
    "    return retorno;\n",
    "}\n",
    "\n",
    "Emprestimo* novoEmprestimo(float s, int n, float j) {\n",
    "    Emprestimo* umEmprestimo = malloc(sizeof(Emprestimo));\n",
    "    umEmprestimo->s = s;\n",
    "    umEmprestimo->n = n;\n",
    "    umEmprestimo->j = j;\n",
    "    umEmprestimo->corrente = 1;\n",
    "    umEmprestimo->p = s;\n",
    "    \n",
    "    umEmprestimo->self = umEmprestimo;\n",
    "    umEmprestimo->proximaParcela = &proximaParcela;\n",
    "    \n",
    "    return umEmprestimo;\n",
    "}\n",
    "\n",
    "int main() {\n",
    "    Emprestimo *emprestimo1,\n",
    "               *emprestimo2;\n",
    "    \n",
    "    emprestimo1 = novoEmprestimo(200, 5, 1);\n",
    "    emprestimo2 = novoEmprestimo(500, 7, 2);\n",
    "    \n",
    "    float p1 = emprestimo1->proximaParcela(emprestimo1->self),\n",
    "          p2 = emprestimo1->proximaParcela(emprestimo2->self);\n",
    "    \n",
    "    int i = 1;\n",
    "    while (p1 > 0 || p2 > 0) {\n",
    "        if (p1 > 0)\n",
    "            printf(\"Emprestimo 1: parcela %d eh %3.2f\\n\", i, p1);\n",
    "        if (p2 > 0)\n",
    "            printf(\"Emprestimo 2: parcela %d eh %3.2f\\n\", i, p2);\n",
    "        p1 = emprestimo1->proximaParcela(emprestimo1->self);\n",
    "        p2 = emprestimo2->proximaParcela(emprestimo2->self);\n",
    "        i++;\n",
    "    }   \n",
    "}"
   ]
  }
 ],
 "metadata": {
  "kernelspec": {
   "display_name": "C",
   "language": "c",
   "name": "c"
  },
  "language_info": {
   "file_extension": ".c",
   "mimetype": "text/plain",
   "name": "c"
  }
 },
 "nbformat": 4,
 "nbformat_minor": 2
}
